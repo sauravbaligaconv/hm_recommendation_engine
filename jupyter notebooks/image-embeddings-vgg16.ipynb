{
 "cells": [
  {
   "cell_type": "code",
   "execution_count": 1,
   "metadata": {
    "execution": {
     "iopub.execute_input": "2022-05-16T16:34:14.245277Z",
     "iopub.status.busy": "2022-05-16T16:34:14.244564Z",
     "iopub.status.idle": "2022-05-16T16:34:21.153074Z",
     "shell.execute_reply": "2022-05-16T16:34:21.152315Z",
     "shell.execute_reply.started": "2022-05-16T16:34:14.245182Z"
    }
   },
   "outputs": [],
   "source": [
    "import pandas as pd\n",
    "import numpy as np\n",
    "import annoy\n",
    "from tqdm.notebook import tqdm\n",
    "from sklearn.preprocessing import LabelEncoder\n",
    "import matplotlib.pyplot as plt\n",
    "import matplotlib.image as mpimg\n",
    "import tensorflow as tf\n",
    "import tensorflow.keras\n",
    "from tensorflow.keras.applications import vgg16\n",
    "from tensorflow.keras.preprocessing.image import load_img,img_to_array\n",
    "from tensorflow.keras.models import Model\n",
    "from tensorflow.keras.applications.imagenet_utils import preprocess_input\n",
    "import keras\n",
    "from keras.layers import Dense, Dropout, Flatten\n",
    "from keras import Model\n",
    "from tensorflow.keras.applications.resnet50 import ResNet50\n",
    "from keras.preprocessing import image\n",
    "from tensorflow.keras.applications.resnet50 import preprocess_input, decode_predictions\n",
    "from keras.layers import GlobalMaxPooling2D\n",
    "from PIL import Image\n",
    "import os\n",
    "from sklearn.metrics.pairwise import cosine_similarity\n",
    "import cv2\n",
    "from sklearn.utils import shuffle\n",
    "from sklearn.preprocessing import LabelBinarizer\n",
    "from keras.applications.xception import Xception,preprocess_input\n",
    "from keras.preprocessing import image\n",
    "from keras.layers import Input\n",
    "from keras.backend import reshape\n",
    "from sklearn.neighbors import NearestNeighbors\n",
    "from tensorflow.keras.models import Sequential,load_model,Model\n",
    "from tensorflow.keras.layers import Conv2D,MaxPooling2D,Dense,Dropout,Flatten,Reshape,UpSampling2D,Input,Lambda,Conv2DTranspose\n"
   ]
  },
  {
   "cell_type": "code",
   "execution_count": null,
   "metadata": {
    "execution": {
     "iopub.execute_input": "2022-05-16T16:34:24.050677Z",
     "iopub.status.busy": "2022-05-16T16:34:24.049962Z",
     "iopub.status.idle": "2022-05-16T16:34:24.193441Z",
     "shell.execute_reply": "2022-05-16T16:34:24.19275Z",
     "shell.execute_reply.started": "2022-05-16T16:34:24.050622Z"
    }
   },
   "outputs": [],
   "source": [
    "images=pd.read_csv('../input/my-data/images_list.csv')\n",
    "images=images.drop('Unnamed: 0',axis=1)\n",
    "images.rename(columns={'0':'img_id'},inplace=True)\n",
    "print(images.shape)\n",
    "images.head()"
   ]
  },
  {
   "cell_type": "code",
   "execution_count": null,
   "metadata": {
    "execution": {
     "iopub.execute_input": "2022-05-16T16:34:27.481436Z",
     "iopub.status.busy": "2022-05-16T16:34:27.481112Z",
     "iopub.status.idle": "2022-05-16T16:34:27.576755Z",
     "shell.execute_reply": "2022-05-16T16:34:27.576017Z",
     "shell.execute_reply.started": "2022-05-16T16:34:27.481399Z"
    }
   },
   "outputs": [],
   "source": [
    "images['path']=images['img_id'].apply(lambda x: f\"../input/h-and-m-personalized-fashion-recommendations/images/{x[0:3]}/{x}\")"
   ]
  },
  {
   "cell_type": "code",
   "execution_count": null,
   "metadata": {
    "execution": {
     "iopub.execute_input": "2022-05-16T16:34:28.556759Z",
     "iopub.status.busy": "2022-05-16T16:34:28.556467Z",
     "iopub.status.idle": "2022-05-16T16:34:28.562105Z",
     "shell.execute_reply": "2022-05-16T16:34:28.561269Z",
     "shell.execute_reply.started": "2022-05-16T16:34:28.556726Z"
    }
   },
   "outputs": [],
   "source": [
    "images.iloc[0,1]"
   ]
  },
  {
   "cell_type": "markdown",
   "metadata": {},
   "source": [
    "# Image similarity model"
   ]
  },
  {
   "cell_type": "code",
   "execution_count": null,
   "metadata": {
    "execution": {
     "iopub.execute_input": "2022-05-16T16:34:32.245632Z",
     "iopub.status.busy": "2022-05-16T16:34:32.245154Z",
     "iopub.status.idle": "2022-05-16T16:34:32.250125Z",
     "shell.execute_reply": "2022-05-16T16:34:32.249355Z",
     "shell.execute_reply.started": "2022-05-16T16:34:32.245595Z"
    }
   },
   "outputs": [],
   "source": [
    "imgs_model_width, imgs_model_height = 224, 224\n",
    "nb_closest_images = 5 "
   ]
  },
  {
   "cell_type": "code",
   "execution_count": null,
   "metadata": {
    "execution": {
     "iopub.execute_input": "2022-05-16T16:34:33.560187Z",
     "iopub.status.busy": "2022-05-16T16:34:33.559608Z",
     "iopub.status.idle": "2022-05-16T16:34:40.069463Z",
     "shell.execute_reply": "2022-05-16T16:34:40.068713Z",
     "shell.execute_reply.started": "2022-05-16T16:34:33.560148Z"
    }
   },
   "outputs": [],
   "source": [
    "vgg_model = vgg16.VGG16(weights='imagenet')\n",
    "\n",
    "# remove the last layers in order to get features instead of predictions\n",
    "feat_extractor = Model(inputs=vgg_model.input, outputs=vgg_model.get_layer(\"fc2\").output)\n",
    "top_model = feat_extractor.output\n",
    "top_model = Dense(4096, activation='relu')(top_model)\n",
    "top_model = Dense(1072, activation='relu')(top_model)\n",
    "output_layer=Dense(600,activation='relu')(top_model)\n",
    "final_model=Model(inputs=vgg_model.input,outputs=output_layer)\n",
    "# print the layers of the CNN\n",
    "final_model.summary()"
   ]
  },
  {
   "cell_type": "code",
   "execution_count": null,
   "metadata": {
    "execution": {
     "iopub.execute_input": "2022-05-16T16:42:37.577691Z",
     "iopub.status.busy": "2022-05-16T16:42:37.577406Z",
     "iopub.status.idle": "2022-05-16T16:42:37.582299Z",
     "shell.execute_reply": "2022-05-16T16:42:37.581388Z",
     "shell.execute_reply.started": "2022-05-16T16:42:37.577648Z"
    }
   },
   "outputs": [],
   "source": [
    "importedImages = []"
   ]
  },
  {
   "cell_type": "code",
   "execution_count": null,
   "metadata": {
    "execution": {
     "iopub.execute_input": "2022-05-16T16:42:40.762117Z",
     "iopub.status.busy": "2022-05-16T16:42:40.761566Z",
     "iopub.status.idle": "2022-05-16T16:45:50.031281Z",
     "shell.execute_reply": "2022-05-16T16:45:50.030553Z",
     "shell.execute_reply.started": "2022-05-16T16:42:40.762079Z"
    }
   },
   "outputs": [],
   "source": [
    "for f in tqdm(images['path'][0:5000]):\n",
    "    filename =f\n",
    "    original = load_img(filename, target_size=(224, 224))\n",
    "    numpy_image = img_to_array(original)\n",
    "    image_batch = np.expand_dims(numpy_image, axis=0)\n",
    "    importedImages.append(image_batch)\n",
    "    \n",
    "#processed_imgs = preprocess_input(images.copy())"
   ]
  },
  {
   "cell_type": "code",
   "execution_count": null,
   "metadata": {
    "execution": {
     "iopub.execute_input": "2022-05-16T16:47:20.769141Z",
     "iopub.status.busy": "2022-05-16T16:47:20.768651Z",
     "iopub.status.idle": "2022-05-16T16:47:21.655136Z",
     "shell.execute_reply": "2022-05-16T16:47:21.654462Z",
     "shell.execute_reply.started": "2022-05-16T16:47:20.769103Z"
    }
   },
   "outputs": [],
   "source": [
    "imagess = np.vstack(importedImages)\n",
    "imagess.shape"
   ]
  },
  {
   "cell_type": "code",
   "execution_count": null,
   "metadata": {
    "execution": {
     "iopub.execute_input": "2022-05-16T16:47:29.267648Z",
     "iopub.status.busy": "2022-05-16T16:47:29.26739Z",
     "iopub.status.idle": "2022-05-16T16:47:29.782129Z",
     "shell.execute_reply": "2022-05-16T16:47:29.781366Z",
     "shell.execute_reply.started": "2022-05-16T16:47:29.267618Z"
    }
   },
   "outputs": [],
   "source": [
    "processed_imgs=preprocess_input(imagess)"
   ]
  },
  {
   "cell_type": "code",
   "execution_count": null,
   "metadata": {
    "execution": {
     "iopub.execute_input": "2022-05-16T16:47:33.10622Z",
     "iopub.status.busy": "2022-05-16T16:47:33.105959Z",
     "iopub.status.idle": "2022-05-16T16:47:58.342523Z",
     "shell.execute_reply": "2022-05-16T16:47:58.341886Z",
     "shell.execute_reply.started": "2022-05-16T16:47:33.106191Z"
    }
   },
   "outputs": [],
   "source": [
    "imgs_features = feat_extractor.predict(processed_imgs)\n",
    "\n",
    "print(\"features successfully extracted!\")\n",
    "imgs_features.shape"
   ]
  },
  {
   "cell_type": "code",
   "execution_count": null,
   "metadata": {
    "execution": {
     "iopub.execute_input": "2022-05-16T16:48:03.636222Z",
     "iopub.status.busy": "2022-05-16T16:48:03.635968Z",
     "iopub.status.idle": "2022-05-16T16:48:03.643817Z",
     "shell.execute_reply": "2022-05-16T16:48:03.642985Z",
     "shell.execute_reply.started": "2022-05-16T16:48:03.636195Z"
    }
   },
   "outputs": [],
   "source": [
    "imgs_features"
   ]
  },
  {
   "cell_type": "code",
   "execution_count": null,
   "metadata": {
    "execution": {
     "iopub.execute_input": "2022-05-16T16:48:09.351534Z",
     "iopub.status.busy": "2022-05-16T16:48:09.351019Z",
     "iopub.status.idle": "2022-05-16T16:48:10.403792Z",
     "shell.execute_reply": "2022-05-16T16:48:10.403107Z",
     "shell.execute_reply.started": "2022-05-16T16:48:09.351494Z"
    }
   },
   "outputs": [],
   "source": [
    "cosSimilarities = cosine_similarity(imgs_features)\n",
    "cos_similarities_df = pd.DataFrame(cosSimilarities, columns=images['path'][0:5000], index=images['path'][0:5000])\n",
    "cos_similarities_df.head()"
   ]
  },
  {
   "cell_type": "code",
   "execution_count": null,
   "metadata": {
    "execution": {
     "iopub.execute_input": "2022-05-16T16:48:37.769376Z",
     "iopub.status.busy": "2022-05-16T16:48:37.768851Z",
     "iopub.status.idle": "2022-05-16T16:49:06.172117Z",
     "shell.execute_reply": "2022-05-16T16:49:06.171318Z",
     "shell.execute_reply.started": "2022-05-16T16:48:37.769339Z"
    }
   },
   "outputs": [],
   "source": [
    "cos_similarities_df.to_csv('similarities.csv')"
   ]
  }
 ],
 "metadata": {
  "kernelspec": {
   "display_name": "Python 3 (ipykernel)",
   "language": "python",
   "name": "python3"
  },
  "language_info": {
   "codemirror_mode": {
    "name": "ipython",
    "version": 3
   },
   "file_extension": ".py",
   "mimetype": "text/x-python",
   "name": "python",
   "nbconvert_exporter": "python",
   "pygments_lexer": "ipython3",
   "version": "3.9.12"
  }
 },
 "nbformat": 4,
 "nbformat_minor": 4
}
