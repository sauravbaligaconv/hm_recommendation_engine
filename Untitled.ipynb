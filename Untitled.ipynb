{
 "cells": [
  {
   "cell_type": "code",
   "execution_count": 2,
   "id": "d2f5b3b1",
   "metadata": {},
   "outputs": [],
   "source": [
    "import os\n",
    "import pandas as pd\n",
    "from numpy.testing import assert_almost_equal\n",
    "import numpy as np\n",
    "cart_id_1=[]\n",
    "embeds=pd.read_csv('C:/Users/Convergytics/Desktop/H and M/HM Personal_Laptop/similarities.csv')\n",
    "embeds=embeds.set_index('path')\n",
    "images=pd.read_csv('C:/Users/Convergytics/Desktop/H and M/HM Personal_Laptop/img_pres.csv')\n",
    "images=images.drop('Unnamed: 0',axis=1)\n",
    "images.rename(columns={'0':'img_id'},inplace=True)\n",
    "images['ids']=images['img_id'].apply(lambda x:x[1:10])\n",
    "images['path']=images['img_id'].apply(lambda x: f\"images/{x[0:3]}/{x}\")\n",
    "ids=images['ids'][0:5000]\n",
    "ids=[int(x) for x in ids]"
   ]
  },
  {
   "cell_type": "code",
   "execution_count": 4,
   "id": "239285eb",
   "metadata": {},
   "outputs": [
    {
     "data": {
      "text/plain": [
       "489435016"
      ]
     },
     "execution_count": 4,
     "metadata": {},
     "output_type": "execute_result"
    }
   ],
   "source": [
    "ids[-1]"
   ]
  }
 ],
 "metadata": {
  "kernelspec": {
   "display_name": "Python 3 (ipykernel)",
   "language": "python",
   "name": "python3"
  },
  "language_info": {
   "codemirror_mode": {
    "name": "ipython",
    "version": 3
   },
   "file_extension": ".py",
   "mimetype": "text/x-python",
   "name": "python",
   "nbconvert_exporter": "python",
   "pygments_lexer": "ipython3",
   "version": "3.9.12"
  }
 },
 "nbformat": 4,
 "nbformat_minor": 5
}
