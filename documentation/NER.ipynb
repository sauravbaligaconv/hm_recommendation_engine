{
  "nbformat": 4,
  "nbformat_minor": 0,
  "metadata": {
    "colab": {
      "provenance": [],
      "collapsed_sections": []
    },
    "kernelspec": {
      "name": "python3",
      "display_name": "Python 3"
    },
    "language_info": {
      "name": "python"
    },
    "accelerator": "GPU"
  },
  "cells": [
    {
      "cell_type": "code",
      "execution_count": null,
      "metadata": {
        "id": "jo0OqsiOAPV2"
      },
      "outputs": [],
      "source": [
        "import spacy"
      ]
    },
    {
      "cell_type": "code",
      "source": [
        "import pandas as pd"
      ],
      "metadata": {
        "id": "s8BR0U5DHoan"
      },
      "execution_count": null,
      "outputs": []
    },
    {
      "cell_type": "code",
      "source": [
        "import numpy as np"
      ],
      "metadata": {
        "id": "vp3KCPZEJFfL"
      },
      "execution_count": null,
      "outputs": []
    },
    {
      "cell_type": "code",
      "source": [
        "from spacy.tokens import DocBin"
      ],
      "metadata": {
        "id": "1MY3lgb6Ahq-"
      },
      "execution_count": null,
      "outputs": []
    },
    {
      "cell_type": "code",
      "source": [
        "from tqdm import tqdm"
      ],
      "metadata": {
        "id": "UBAf71tDAiv4"
      },
      "execution_count": null,
      "outputs": []
    },
    {
      "cell_type": "code",
      "source": [
        "db = DocBin()"
      ],
      "metadata": {
        "id": "IyRsOiICAn4u"
      },
      "execution_count": null,
      "outputs": []
    },
    {
      "cell_type": "code",
      "source": [
        "train=[\n",
        "    \n",
        "(\"get me a Light Grey shirt\",{\"entities\":[(9,19,\"colour_group_name\"),(20,24,\"product_type_name\")]}),\n",
        "(\"get me a Silver shirt\",{\"entities\":[(9,15,\"colour_group_name\"),(16,21,\"product_type_name\")]}),\n",
        "(\"Grey shirt\",{\"entities\":[(0,4,\"colour_group_name\"),(5,10,\"product_type_name\")]}),\n",
        "(\"Light Orange shirt\",{\"entities\":[(0,12,\"colour_group_name\"),(13,18,\"product_type_name\")]}),\n",
        "(\"Dark Blue shirt\",{\"entities\":[(11,15,\"product_type_name\"),(0,9,\"colour_group_name\")]}),\n",
        "(\"Black shirt\",{\"entities\":[(0,5,\"colour_group_name\"),(6,11,\"product_type_name\")]}),\n",
        "(\"Light Pink shirt\",{\"entities\":[(0,10,\"colour_group_name\"),(11,16,\"product_type_name\")]}),\n",
        "(\"Sandals greater than 5000\",{\"entities\":[(0,8,\"product_type_name\"),(8,16,\"pricing\"),(21,25,\"price\")]}),\n",
        "(\"tshirt less than 3000\",{\"entities\":[(0,7,\"product_type_name\"),(7,12,\"pricing\"),(17,21,\"price\")]}),\n",
        "(\"t-shirt above 3000\",{\"entities\":[(0,7,\"product_type_name\"),(8,14,\"pricing\"),(14,18,\"price\")]}),\n",
        "(\"T-shirt above 2000\",{\"entities\":[(0,7,\"product_type_name\"),(8,13,\"pricing\"),(14,18,\"price\")]}),\n",
        "(\"Sandals less 3000\",{\"entities\":[(0,8,\"product_type_name\"),(8,13,\"pricing\"),(13,17,\"price\")]}),\n",
        "(\"Toy greater than 2000\",{\"entities\":[(0,4,\"product_type_name\"),(4,12,\"pricing\"),(17,21,\"price\")]}),\n",
        "(\"Shorts cheaper than 2000\",{\"entities\":[(0,6,\"product_type_name\"),(7,15,\"pricing\"),(20,24,\"price\")]}),\n",
        "(\"Skirt above 5000\",{\"entities\":[(0,6,\"product_type_name\"),(6,12,\"pricing\"),(12,16,\"price\")]}),\n",
        "(\"Bracelet more 1000\",{\"entities\":[(0,9,\"product_type_name\"),(9,14,\"pricing\"),(14,18,\"price\")]}),\n",
        "(\"Jacket greater than 5000\",{\"entities\":[(0,7,\"product_type_name\"),(7,15,\"pricing\"),(20,24,\"price\")]}),\n",
        "(\"Sandals below 5000\",{\"entities\":[(0,8,\"product_type_name\"),(8,14,\"pricing\"),(14,18,\"price\")]}),\n",
        "(\"Socks more 3000\",{\"entities\":[(0,6,\"product_type_name\"),(6,11,\"pricing\"),(11,15,\"price\")]}),\n",
        "(\"Scarf less than 3000\",{\"entities\":[(0,5,\"product_type_name\"),(6,11,\"pricing\"),(16,20,\"price\")]}),\n",
        "(\"Underwear bottom cheaper than 4000\",{\"entities\":[(0,10,\"product_type_name\"),(17,25,\"pricing\"),(30,34,\"price\")]}),\n",
        "(\"Shorts above 4000\",{\"entities\":[(0,7,\"product_type_name\"),(7,13,\"pricing\"),(13,17,\"price\")]}),\n",
        "(\"Boots greater than 1000\",{\"entities\":[(0,6,\"product_type_name\"),(6,13,\"pricing\"),(19,23,\"price\")]}),\n",
        "(\"Cap above 1000\",{\"entities\":[(0,4,\"product_type_name\"),(4,10,\"pricing\"),(10,14,\"price\")]}),\n",
        "(\"Clothing mist greater than 1000\",{\"entities\":[(0,13,\"product_type_name\"),(14,22,\"pricing\"),(27,31,\"price\")]}),\n",
        "(\"Leg warmers above 1000\",{\"entities\":[(0,11,\"product_type_name\"),(12,17,\"pricing\"),(18,22,\"price\")]}),\n",
        "(\"Skirt more 2000\",{\"entities\":[(0,6,\"product_type_name\"),(6,11,\"pricing\"),(11,15,\"price\")]}),\n",
        "(\"Dog wear cheaper than 5000\",{\"entities\":[(0,8,\"product_type_name\"),(9,16,\"pricing\"),(22,26,\"price\")]}),\n",
        "(\"Necklace greater than 2000\",{\"entities\":[(0,8,\"product_type_name\"),(9,16,\"pricing\"),(22,26,\"price\")]}),\n",
        "(\"Belt less than 4000\",{\"entities\":[(0,4,\"product_type_name\"),(5,10,\"pricing\"),(15,19,\"price\")]}),\n",
        "(\"Ballerinas less 1000\",{\"entities\":[(0,10,\"product_type_name\"),(11,16,\"pricing\"),(16,20,\"price\")]}),\n",
        "(\"Accessories set cheaper than 4000\",{\"entities\":[(0,15,\"product_type_name\"),(16,23,\"pricing\"),(29,33,\"price\")]}),\n",
        "(\"Underwear bottom above 2000\",{\"entities\":[(0,16,\"product_type_name\"),(17,22,\"pricing\"),(23,27,\"price\")]}),\n",
        "(\"Nipple covers less than 4000\",{\"entities\":[(0,6,\"product_type_name\"),(14,19,\"pricing\"),(24,28,\"price\")]}),\n",
        "(\"Blazer greater than 2000\",{\"entities\":[(0,7,\"product_type_name\"),(7,15,\"pricing\"),(20,24,\"price\")]}),\n",
        "(\"black shirt for women \",{\"entities\":[(0,6,\"colour_group_name\"),(6,11,\"product_type_name\"),(16,21,\"index_name\")]}),\n",
        "(\"black shirt for men\",{\"entities\":[(0,6,\"colour_group_name\"),(6,12,\"product_type_name\"),(16,19,\"index_name\")]}),\n",
        "(\"shirts for women below 500\",{\"entities\":[(0,7,\"product_type_name\"),(11,17,\"index_name\"),(17,23,\"pricing\"),(23,26,\"price\")]}),\n",
        "(\"shirts for men below 500\",{\"entities\":[(0,7,\"product_type_name\"),(11,14,\"index_name\"),(15,21,\"pricing\"),(21,24,\"price\")]}),\n",
        "(\"shirts for women\",{\"entities\":[(0,7,\"product_type_name\"),(11,16,\"index_name\")]}),\n",
        "(\"shirts for men\",{\"entities\":[(0,6,\"product_type_name\"),(11,14,\"index_name\")]})\n",
        "    \n",
        "]"
      ],
      "metadata": {
        "id": "z4X2AkgAAqcS"
      },
      "execution_count": null,
      "outputs": []
    },
    {
      "cell_type": "code",
      "source": [
        "nlp = spacy.load('en_core_web_sm')"
      ],
      "metadata": {
        "id": "UjZcRtqXAxYR"
      },
      "execution_count": null,
      "outputs": []
    },
    {
      "cell_type": "code",
      "source": [
        "for text, annot in tqdm(train): # data in previous format\n",
        "    doc = nlp.make_doc(text)\n",
        "    print(doc) # create doc object from text\n",
        "    ents = []\n",
        "    for start, end, label in annot[\"entities\"]: # add character indexes\n",
        "        span = doc.char_span(start, end, label=label, alignment_mode=\"contract\")\n",
        "        if span is None:\n",
        "            print(\"Skipping entity\")\n",
        "        else:\n",
        "            ents.append(span)\n",
        "            print(ents)\n",
        "    doc.ents = ents # label the text with the ents\n",
        "    db.add(doc)"
      ],
      "metadata": {
        "colab": {
          "base_uri": "https://localhost:8080/"
        },
        "id": "1Cq12jtLAsI5",
        "outputId": "29fc5c36-4ec1-46a9-d0a5-9003b33daa91"
      },
      "execution_count": null,
      "outputs": [
        {
          "output_type": "stream",
          "name": "stderr",
          "text": [
            "100%|██████████| 41/41 [00:00<00:00, 1443.66it/s]"
          ]
        },
        {
          "output_type": "stream",
          "name": "stdout",
          "text": [
            "get me a Light Grey shirt\n",
            "[Light Grey]\n",
            "Skipping entity\n",
            "get me a Silver shirt\n",
            "[Silver]\n",
            "[Silver, shirt]\n",
            "Grey shirt\n",
            "[Grey]\n",
            "[Grey, shirt]\n",
            "Light Orange shirt\n",
            "[Light Orange]\n",
            "[Light Orange, shirt]\n",
            "Dark Blue shirt\n",
            "Skipping entity\n",
            "[Dark Blue]\n",
            "Black shirt\n",
            "[Black]\n",
            "[Black, shirt]\n",
            "Light Pink shirt\n",
            "[Light Pink]\n",
            "[Light Pink, shirt]\n",
            "Sandals greater than 5000\n",
            "[Sandals]\n",
            "[Sandals, greater]\n",
            "[Sandals, greater, 5000]\n",
            "tshirt less than 3000\n",
            "[tshirt]\n",
            "[tshirt, less]\n",
            "[tshirt, less, 3000]\n",
            "t-shirt above 3000\n",
            "[t-shirt]\n",
            "[t-shirt, above]\n",
            "[t-shirt, above, 3000]\n",
            "T-shirt above 2000\n",
            "[T-shirt]\n",
            "[T-shirt, above]\n",
            "[T-shirt, above, 2000]\n",
            "Sandals less 3000\n",
            "[Sandals]\n",
            "[Sandals, less]\n",
            "[Sandals, less, 3000]\n",
            "Toy greater than 2000\n",
            "[Toy]\n",
            "[Toy, greater]\n",
            "[Toy, greater, 2000]\n",
            "Shorts cheaper than 2000\n",
            "[Shorts]\n",
            "[Shorts, cheaper]\n",
            "[Shorts, cheaper, 2000]\n",
            "Skirt above 5000\n",
            "[Skirt]\n",
            "[Skirt, above]\n",
            "[Skirt, above, 5000]\n",
            "Bracelet more 1000\n",
            "[Bracelet]\n",
            "[Bracelet, more]\n",
            "[Bracelet, more, 1000]\n",
            "Jacket greater than 5000\n",
            "[Jacket]\n",
            "[Jacket, greater]\n",
            "[Jacket, greater, 5000]\n",
            "Sandals below 5000\n",
            "[Sandals]\n",
            "[Sandals, below]\n",
            "[Sandals, below, 5000]\n",
            "Socks more 3000\n",
            "[Socks]\n",
            "[Socks, more]\n",
            "[Socks, more, 3000]\n",
            "Scarf less than 3000\n",
            "[Scarf]\n",
            "[Scarf, less]\n",
            "[Scarf, less, 3000]\n",
            "Underwear bottom cheaper than 4000\n",
            "[Underwear]\n",
            "[Underwear, cheaper]\n",
            "[Underwear, cheaper, 4000]\n",
            "Shorts above 4000\n",
            "[Shorts]\n",
            "[Shorts, above]\n",
            "[Shorts, above, 4000]\n",
            "Boots greater than 1000\n",
            "[Boots]\n",
            "[Boots, greater]\n",
            "[Boots, greater, 1000]\n",
            "Cap above 1000\n",
            "[Cap]\n",
            "[Cap, above]\n",
            "[Cap, above, 1000]\n",
            "Clothing mist greater than 1000\n",
            "[Clothing mist]\n",
            "[Clothing mist, greater]\n",
            "[Clothing mist, greater, 1000]\n",
            "Leg warmers above 1000\n",
            "[Leg warmers]\n",
            "[Leg warmers, above]\n",
            "[Leg warmers, above, 1000]\n",
            "Skirt more 2000\n",
            "[Skirt]\n",
            "[Skirt, more]\n",
            "[Skirt, more, 2000]\n",
            "Dog wear cheaper than 5000\n",
            "[Dog wear]\n",
            "[Dog wear, cheaper]\n",
            "[Dog wear, cheaper, 5000]\n",
            "Necklace greater than 2000\n",
            "[Necklace]\n",
            "[Necklace, greater]\n",
            "[Necklace, greater, 2000]\n",
            "Belt less than 4000\n",
            "[Belt]\n",
            "[Belt, less]\n",
            "[Belt, less, 4000]\n",
            "Ballerinas less 1000\n",
            "[Ballerinas]\n",
            "[Ballerinas, less]\n",
            "[Ballerinas, less, 1000]\n",
            "Accessories set cheaper than 4000\n",
            "[Accessories set]\n",
            "[Accessories set, cheaper]\n",
            "[Accessories set, cheaper, 4000]\n",
            "Underwear bottom above 2000\n",
            "[Underwear bottom]\n",
            "[Underwear bottom, above]\n",
            "[Underwear bottom, above, 2000]\n",
            "Nipple covers less than 4000\n",
            "[Nipple]\n",
            "[Nipple, less]\n",
            "[Nipple, less, 4000]\n",
            "Blazer greater than 2000\n",
            "[Blazer]\n",
            "[Blazer, greater]\n",
            "[Blazer, greater, 2000]\n",
            "black shirt for women \n",
            "[black]\n",
            "[black, shirt]\n",
            "[black, shirt, women]\n",
            "black shirt for men\n",
            "[black]\n",
            "[black, shirt]\n",
            "[black, shirt, men]\n",
            "shirts for women below 500\n",
            "[shirts]\n",
            "[shirts, women]\n",
            "[shirts, women, below]\n",
            "[shirts, women, below, 500]\n",
            "shirts for men below 500\n",
            "[shirts]\n",
            "[shirts, men]\n",
            "[shirts, men, below]\n",
            "[shirts, men, below, 500]\n",
            "shirts for women\n",
            "[shirts]\n",
            "[shirts, women]\n",
            "shirts for men\n",
            "[shirts]\n",
            "[shirts, men]\n"
          ]
        },
        {
          "output_type": "stream",
          "name": "stderr",
          "text": [
            "\n"
          ]
        }
      ]
    },
    {
      "cell_type": "code",
      "source": [
        "db.to_disk(\"./train.spacy\")"
      ],
      "metadata": {
        "id": "aKt9DklxAzir"
      },
      "execution_count": null,
      "outputs": []
    },
    {
      "cell_type": "code",
      "source": [
        "!python -m spacy init fill-config base_config.cfg config.cfg"
      ],
      "metadata": {
        "colab": {
          "base_uri": "https://localhost:8080/"
        },
        "id": "-gFGpA0sBAbl",
        "outputId": "8938847b-ce35-4bb7-869c-34722b2740b4"
      },
      "execution_count": null,
      "outputs": [
        {
          "output_type": "stream",
          "name": "stdout",
          "text": [
            "\u001b[38;5;2m✔ Auto-filled config with all values\u001b[0m\n",
            "\u001b[38;5;2m✔ Saved config\u001b[0m\n",
            "config.cfg\n",
            "You can now add your data and train your pipeline:\n",
            "python -m spacy train config.cfg --paths.train ./train.spacy --paths.dev ./dev.spacy\n"
          ]
        }
      ]
    },
    {
      "cell_type": "code",
      "source": [
        "!python -m spacy train config.cfg --output ./output --paths.train ./train.spacy --paths.dev ./train.spacy --gpu-id 0"
      ],
      "metadata": {
        "colab": {
          "base_uri": "https://localhost:8080/"
        },
        "id": "f0EM5_UoBGTD",
        "outputId": "d0e3525c-c140-468a-bd67-d59c044e6833"
      },
      "execution_count": null,
      "outputs": [
        {
          "output_type": "stream",
          "name": "stdout",
          "text": [
            "\u001b[38;5;4mℹ Saving to output directory: output\u001b[0m\n",
            "\u001b[38;5;4mℹ Using GPU: 0\u001b[0m\n",
            "\u001b[1m\n",
            "=========================== Initializing pipeline ===========================\u001b[0m\n",
            "[2022-09-27 06:02:39,593] [INFO] Set up nlp object from config\n",
            "INFO:spacy:Set up nlp object from config\n",
            "[2022-09-27 06:02:39,603] [INFO] Pipeline: ['tok2vec', 'ner']\n",
            "INFO:spacy:Pipeline: ['tok2vec', 'ner']\n",
            "[2022-09-27 06:02:39,607] [INFO] Created vocabulary\n",
            "INFO:spacy:Created vocabulary\n",
            "[2022-09-27 06:02:40,434] [WARNING] [W112] The model specified to use for initial vectors (en_core_web_sm) has no vectors. This is almost certainly a mistake.\n",
            "WARNING:spacy:[W112] The model specified to use for initial vectors (en_core_web_sm) has no vectors. This is almost certainly a mistake.\n",
            "[2022-09-27 06:02:40,435] [INFO] Added vectors: en_core_web_sm\n",
            "INFO:spacy:Added vectors: en_core_web_sm\n",
            "[2022-09-27 06:02:40,436] [INFO] Finished initializing nlp object\n",
            "INFO:spacy:Finished initializing nlp object\n",
            "[2022-09-27 06:02:51,891] [INFO] Initialized pipeline components: ['tok2vec', 'ner']\n",
            "INFO:spacy:Initialized pipeline components: ['tok2vec', 'ner']\n",
            "\u001b[38;5;2m✔ Initialized pipeline\u001b[0m\n",
            "\u001b[1m\n",
            "============================= Training pipeline =============================\u001b[0m\n",
            "\u001b[38;5;4mℹ Pipeline: ['tok2vec', 'ner']\u001b[0m\n",
            "\u001b[38;5;4mℹ Initial learn rate: 0.001\u001b[0m\n",
            "E    #       LOSS TOK2VEC  LOSS NER  ENTS_F  ENTS_P  ENTS_R  SCORE \n",
            "---  ------  ------------  --------  ------  ------  ------  ------\n",
            "  0       0          0.00     84.05   26.12   22.55   31.02    0.26\n",
            " 52     200         13.05   1129.96   99.59  100.00   99.18    1.00\n",
            "118     400          9.09    252.71   99.59  100.00   99.18    1.00\n",
            "195     600         17.66    316.33   99.59  100.00   99.18    1.00\n",
            "295     800          7.31    333.28   99.59  100.00   99.18    1.00\n",
            "395    1000          5.91    321.95   99.59  100.00   99.18    1.00\n",
            "525    1200         10.36    415.83   99.59  100.00   99.18    1.00\n",
            "725    1400         10.01    623.03   99.59  100.00   99.18    1.00\n",
            "925    1600          9.59    618.09   99.59  100.00   99.18    1.00\n",
            "1125    1800          8.69    620.21   99.59  100.00   99.18    1.00\n",
            "\u001b[38;5;2m✔ Saved pipeline to output directory\u001b[0m\n",
            "output/model-last\n"
          ]
        }
      ]
    },
    {
      "cell_type": "code",
      "source": [
        "nlp1 = spacy.load(r\"./output/model-best\")"
      ],
      "metadata": {
        "id": "SQgXD2cfCc1j"
      },
      "execution_count": null,
      "outputs": []
    },
    {
      "cell_type": "code",
      "source": [
        "doc=nlp1('get me a black shirt below 500')"
      ],
      "metadata": {
        "id": "lM1h28JSChf_"
      },
      "execution_count": null,
      "outputs": []
    },
    {
      "cell_type": "code",
      "source": [
        "for entity in doc.ents:\n",
        "    print(entity.text, entity.label_)"
      ],
      "metadata": {
        "colab": {
          "base_uri": "https://localhost:8080/"
        },
        "id": "nWiuwlnoDEa_",
        "outputId": "24d01225-4f8d-47f4-e06e-da60972819ed"
      },
      "execution_count": null,
      "outputs": [
        {
          "output_type": "stream",
          "name": "stdout",
          "text": [
            "black colour_group_name\n",
            "shirt product_type_name\n",
            "below pricing\n",
            "500 price\n"
          ]
        }
      ]
    },
    {
      "cell_type": "code",
      "source": [
        "!zip -r /content/file1.zip /content/output"
      ],
      "metadata": {
        "colab": {
          "base_uri": "https://localhost:8080/"
        },
        "id": "T5PxHOIYF6wW",
        "outputId": "9ba48f6a-7714-4877-af9a-b6694639be2d"
      },
      "execution_count": null,
      "outputs": [
        {
          "output_type": "stream",
          "name": "stdout",
          "text": [
            "  adding: content/output/ (stored 0%)\n",
            "  adding: content/output/model-best/ (stored 0%)\n",
            "  adding: content/output/model-best/config.cfg (deflated 60%)\n",
            "  adding: content/output/model-best/tok2vec/ (stored 0%)\n",
            "  adding: content/output/model-best/tok2vec/cfg (stored 0%)\n",
            "  adding: content/output/model-best/tok2vec/model (deflated 8%)\n",
            "  adding: content/output/model-best/meta.json (deflated 66%)\n",
            "  adding: content/output/model-best/tokenizer (deflated 81%)\n",
            "  adding: content/output/model-best/vocab/ (stored 0%)\n",
            "  adding: content/output/model-best/vocab/strings.json (deflated 75%)\n",
            "  adding: content/output/model-best/vocab/lookups.bin (stored 0%)\n",
            "  adding: content/output/model-best/vocab/vectors.cfg (stored 0%)\n",
            "  adding: content/output/model-best/vocab/vectors (deflated 45%)\n",
            "  adding: content/output/model-best/vocab/key2row (stored 0%)\n",
            "  adding: content/output/model-best/ner/ (stored 0%)\n",
            "  adding: content/output/model-best/ner/cfg (deflated 33%)\n",
            "  adding: content/output/model-best/ner/moves (deflated 69%)\n",
            "  adding: content/output/model-best/ner/model (deflated 9%)\n",
            "  adding: content/output/model-last/ (stored 0%)\n",
            "  adding: content/output/model-last/config.cfg (deflated 60%)\n",
            "  adding: content/output/model-last/tok2vec/ (stored 0%)\n",
            "  adding: content/output/model-last/tok2vec/cfg (stored 0%)\n",
            "  adding: content/output/model-last/tok2vec/model (deflated 8%)\n",
            "  adding: content/output/model-last/meta.json (deflated 66%)\n",
            "  adding: content/output/model-last/tokenizer (deflated 81%)\n",
            "  adding: content/output/model-last/vocab/ (stored 0%)\n",
            "  adding: content/output/model-last/vocab/strings.json (deflated 75%)\n",
            "  adding: content/output/model-last/vocab/lookups.bin (stored 0%)\n",
            "  adding: content/output/model-last/vocab/vectors.cfg (stored 0%)\n",
            "  adding: content/output/model-last/vocab/vectors (deflated 45%)\n",
            "  adding: content/output/model-last/vocab/key2row (stored 0%)\n",
            "  adding: content/output/model-last/ner/ (stored 0%)\n",
            "  adding: content/output/model-last/ner/cfg (deflated 33%)\n",
            "  adding: content/output/model-last/ner/moves (deflated 69%)\n",
            "  adding: content/output/model-last/ner/model (deflated 9%)\n"
          ]
        }
      ]
    },
    {
      "cell_type": "code",
      "source": [
        "articles=pd.read_csv('articles.csv')"
      ],
      "metadata": {
        "id": "0yayb2bvHiMR"
      },
      "execution_count": null,
      "outputs": []
    },
    {
      "cell_type": "code",
      "source": [
        "articles.head()"
      ],
      "metadata": {
        "colab": {
          "base_uri": "https://localhost:8080/",
          "height": 560
        },
        "id": "QcVcCzw3HlUV",
        "outputId": "d3ff2bc3-d3de-43e2-8c3b-a4095315605d"
      },
      "execution_count": null,
      "outputs": [
        {
          "output_type": "execute_result",
          "data": {
            "text/plain": [
              "   article_id  product_code          prod_name  product_type_no  \\\n",
              "0   108775015        108775          Strap top              253   \n",
              "1   108775044        108775          Strap top              253   \n",
              "2   108775051        108775      Strap top (1)              253   \n",
              "3   110065001        110065  OP T-shirt (Idro)              306   \n",
              "4   110065002        110065  OP T-shirt (Idro)              306   \n",
              "\n",
              "  product_type_name  product_group_name  graphical_appearance_no  \\\n",
              "0          Vest top  Garment Upper body                  1010016   \n",
              "1          Vest top  Garment Upper body                  1010016   \n",
              "2          Vest top  Garment Upper body                  1010017   \n",
              "3               Bra           Underwear                  1010016   \n",
              "4               Bra           Underwear                  1010016   \n",
              "\n",
              "  graphical_appearance_name  colour_group_code colour_group_name  ...  \\\n",
              "0                     Solid                  9             Black  ...   \n",
              "1                     Solid                 10             White  ...   \n",
              "2                    Stripe                 11         Off White  ...   \n",
              "3                     Solid                  9             Black  ...   \n",
              "4                     Solid                 10             White  ...   \n",
              "\n",
              "   department_name index_code        index_name index_group_no  \\\n",
              "0     Jersey Basic          A        Ladieswear              1   \n",
              "1     Jersey Basic          A        Ladieswear              1   \n",
              "2     Jersey Basic          A        Ladieswear              1   \n",
              "3   Clean Lingerie          B  Lingeries/Tights              1   \n",
              "4   Clean Lingerie          B  Lingeries/Tights              1   \n",
              "\n",
              "   index_group_name section_no            section_name garment_group_no  \\\n",
              "0        Ladieswear         16  Womens Everyday Basics             1002   \n",
              "1        Ladieswear         16  Womens Everyday Basics             1002   \n",
              "2        Ladieswear         16  Womens Everyday Basics             1002   \n",
              "3        Ladieswear         61         Womens Lingerie             1017   \n",
              "4        Ladieswear         61         Womens Lingerie             1017   \n",
              "\n",
              "   garment_group_name                                        detail_desc  \n",
              "0        Jersey Basic            Jersey top with narrow shoulder straps.  \n",
              "1        Jersey Basic            Jersey top with narrow shoulder straps.  \n",
              "2        Jersey Basic            Jersey top with narrow shoulder straps.  \n",
              "3   Under-, Nightwear  Microfibre T-shirt bra with underwired, moulde...  \n",
              "4   Under-, Nightwear  Microfibre T-shirt bra with underwired, moulde...  \n",
              "\n",
              "[5 rows x 25 columns]"
            ],
            "text/html": [
              "\n",
              "  <div id=\"df-ace1ab59-4250-418b-ad95-2e3767f136b6\">\n",
              "    <div class=\"colab-df-container\">\n",
              "      <div>\n",
              "<style scoped>\n",
              "    .dataframe tbody tr th:only-of-type {\n",
              "        vertical-align: middle;\n",
              "    }\n",
              "\n",
              "    .dataframe tbody tr th {\n",
              "        vertical-align: top;\n",
              "    }\n",
              "\n",
              "    .dataframe thead th {\n",
              "        text-align: right;\n",
              "    }\n",
              "</style>\n",
              "<table border=\"1\" class=\"dataframe\">\n",
              "  <thead>\n",
              "    <tr style=\"text-align: right;\">\n",
              "      <th></th>\n",
              "      <th>article_id</th>\n",
              "      <th>product_code</th>\n",
              "      <th>prod_name</th>\n",
              "      <th>product_type_no</th>\n",
              "      <th>product_type_name</th>\n",
              "      <th>product_group_name</th>\n",
              "      <th>graphical_appearance_no</th>\n",
              "      <th>graphical_appearance_name</th>\n",
              "      <th>colour_group_code</th>\n",
              "      <th>colour_group_name</th>\n",
              "      <th>...</th>\n",
              "      <th>department_name</th>\n",
              "      <th>index_code</th>\n",
              "      <th>index_name</th>\n",
              "      <th>index_group_no</th>\n",
              "      <th>index_group_name</th>\n",
              "      <th>section_no</th>\n",
              "      <th>section_name</th>\n",
              "      <th>garment_group_no</th>\n",
              "      <th>garment_group_name</th>\n",
              "      <th>detail_desc</th>\n",
              "    </tr>\n",
              "  </thead>\n",
              "  <tbody>\n",
              "    <tr>\n",
              "      <th>0</th>\n",
              "      <td>108775015</td>\n",
              "      <td>108775</td>\n",
              "      <td>Strap top</td>\n",
              "      <td>253</td>\n",
              "      <td>Vest top</td>\n",
              "      <td>Garment Upper body</td>\n",
              "      <td>1010016</td>\n",
              "      <td>Solid</td>\n",
              "      <td>9</td>\n",
              "      <td>Black</td>\n",
              "      <td>...</td>\n",
              "      <td>Jersey Basic</td>\n",
              "      <td>A</td>\n",
              "      <td>Ladieswear</td>\n",
              "      <td>1</td>\n",
              "      <td>Ladieswear</td>\n",
              "      <td>16</td>\n",
              "      <td>Womens Everyday Basics</td>\n",
              "      <td>1002</td>\n",
              "      <td>Jersey Basic</td>\n",
              "      <td>Jersey top with narrow shoulder straps.</td>\n",
              "    </tr>\n",
              "    <tr>\n",
              "      <th>1</th>\n",
              "      <td>108775044</td>\n",
              "      <td>108775</td>\n",
              "      <td>Strap top</td>\n",
              "      <td>253</td>\n",
              "      <td>Vest top</td>\n",
              "      <td>Garment Upper body</td>\n",
              "      <td>1010016</td>\n",
              "      <td>Solid</td>\n",
              "      <td>10</td>\n",
              "      <td>White</td>\n",
              "      <td>...</td>\n",
              "      <td>Jersey Basic</td>\n",
              "      <td>A</td>\n",
              "      <td>Ladieswear</td>\n",
              "      <td>1</td>\n",
              "      <td>Ladieswear</td>\n",
              "      <td>16</td>\n",
              "      <td>Womens Everyday Basics</td>\n",
              "      <td>1002</td>\n",
              "      <td>Jersey Basic</td>\n",
              "      <td>Jersey top with narrow shoulder straps.</td>\n",
              "    </tr>\n",
              "    <tr>\n",
              "      <th>2</th>\n",
              "      <td>108775051</td>\n",
              "      <td>108775</td>\n",
              "      <td>Strap top (1)</td>\n",
              "      <td>253</td>\n",
              "      <td>Vest top</td>\n",
              "      <td>Garment Upper body</td>\n",
              "      <td>1010017</td>\n",
              "      <td>Stripe</td>\n",
              "      <td>11</td>\n",
              "      <td>Off White</td>\n",
              "      <td>...</td>\n",
              "      <td>Jersey Basic</td>\n",
              "      <td>A</td>\n",
              "      <td>Ladieswear</td>\n",
              "      <td>1</td>\n",
              "      <td>Ladieswear</td>\n",
              "      <td>16</td>\n",
              "      <td>Womens Everyday Basics</td>\n",
              "      <td>1002</td>\n",
              "      <td>Jersey Basic</td>\n",
              "      <td>Jersey top with narrow shoulder straps.</td>\n",
              "    </tr>\n",
              "    <tr>\n",
              "      <th>3</th>\n",
              "      <td>110065001</td>\n",
              "      <td>110065</td>\n",
              "      <td>OP T-shirt (Idro)</td>\n",
              "      <td>306</td>\n",
              "      <td>Bra</td>\n",
              "      <td>Underwear</td>\n",
              "      <td>1010016</td>\n",
              "      <td>Solid</td>\n",
              "      <td>9</td>\n",
              "      <td>Black</td>\n",
              "      <td>...</td>\n",
              "      <td>Clean Lingerie</td>\n",
              "      <td>B</td>\n",
              "      <td>Lingeries/Tights</td>\n",
              "      <td>1</td>\n",
              "      <td>Ladieswear</td>\n",
              "      <td>61</td>\n",
              "      <td>Womens Lingerie</td>\n",
              "      <td>1017</td>\n",
              "      <td>Under-, Nightwear</td>\n",
              "      <td>Microfibre T-shirt bra with underwired, moulde...</td>\n",
              "    </tr>\n",
              "    <tr>\n",
              "      <th>4</th>\n",
              "      <td>110065002</td>\n",
              "      <td>110065</td>\n",
              "      <td>OP T-shirt (Idro)</td>\n",
              "      <td>306</td>\n",
              "      <td>Bra</td>\n",
              "      <td>Underwear</td>\n",
              "      <td>1010016</td>\n",
              "      <td>Solid</td>\n",
              "      <td>10</td>\n",
              "      <td>White</td>\n",
              "      <td>...</td>\n",
              "      <td>Clean Lingerie</td>\n",
              "      <td>B</td>\n",
              "      <td>Lingeries/Tights</td>\n",
              "      <td>1</td>\n",
              "      <td>Ladieswear</td>\n",
              "      <td>61</td>\n",
              "      <td>Womens Lingerie</td>\n",
              "      <td>1017</td>\n",
              "      <td>Under-, Nightwear</td>\n",
              "      <td>Microfibre T-shirt bra with underwired, moulde...</td>\n",
              "    </tr>\n",
              "  </tbody>\n",
              "</table>\n",
              "<p>5 rows × 25 columns</p>\n",
              "</div>\n",
              "      <button class=\"colab-df-convert\" onclick=\"convertToInteractive('df-ace1ab59-4250-418b-ad95-2e3767f136b6')\"\n",
              "              title=\"Convert this dataframe to an interactive table.\"\n",
              "              style=\"display:none;\">\n",
              "        \n",
              "  <svg xmlns=\"http://www.w3.org/2000/svg\" height=\"24px\"viewBox=\"0 0 24 24\"\n",
              "       width=\"24px\">\n",
              "    <path d=\"M0 0h24v24H0V0z\" fill=\"none\"/>\n",
              "    <path d=\"M18.56 5.44l.94 2.06.94-2.06 2.06-.94-2.06-.94-.94-2.06-.94 2.06-2.06.94zm-11 1L8.5 8.5l.94-2.06 2.06-.94-2.06-.94L8.5 2.5l-.94 2.06-2.06.94zm10 10l.94 2.06.94-2.06 2.06-.94-2.06-.94-.94-2.06-.94 2.06-2.06.94z\"/><path d=\"M17.41 7.96l-1.37-1.37c-.4-.4-.92-.59-1.43-.59-.52 0-1.04.2-1.43.59L10.3 9.45l-7.72 7.72c-.78.78-.78 2.05 0 2.83L4 21.41c.39.39.9.59 1.41.59.51 0 1.02-.2 1.41-.59l7.78-7.78 2.81-2.81c.8-.78.8-2.07 0-2.86zM5.41 20L4 18.59l7.72-7.72 1.47 1.35L5.41 20z\"/>\n",
              "  </svg>\n",
              "      </button>\n",
              "      \n",
              "  <style>\n",
              "    .colab-df-container {\n",
              "      display:flex;\n",
              "      flex-wrap:wrap;\n",
              "      gap: 12px;\n",
              "    }\n",
              "\n",
              "    .colab-df-convert {\n",
              "      background-color: #E8F0FE;\n",
              "      border: none;\n",
              "      border-radius: 50%;\n",
              "      cursor: pointer;\n",
              "      display: none;\n",
              "      fill: #1967D2;\n",
              "      height: 32px;\n",
              "      padding: 0 0 0 0;\n",
              "      width: 32px;\n",
              "    }\n",
              "\n",
              "    .colab-df-convert:hover {\n",
              "      background-color: #E2EBFA;\n",
              "      box-shadow: 0px 1px 2px rgba(60, 64, 67, 0.3), 0px 1px 3px 1px rgba(60, 64, 67, 0.15);\n",
              "      fill: #174EA6;\n",
              "    }\n",
              "\n",
              "    [theme=dark] .colab-df-convert {\n",
              "      background-color: #3B4455;\n",
              "      fill: #D2E3FC;\n",
              "    }\n",
              "\n",
              "    [theme=dark] .colab-df-convert:hover {\n",
              "      background-color: #434B5C;\n",
              "      box-shadow: 0px 1px 3px 1px rgba(0, 0, 0, 0.15);\n",
              "      filter: drop-shadow(0px 1px 2px rgba(0, 0, 0, 0.3));\n",
              "      fill: #FFFFFF;\n",
              "    }\n",
              "  </style>\n",
              "\n",
              "      <script>\n",
              "        const buttonEl =\n",
              "          document.querySelector('#df-ace1ab59-4250-418b-ad95-2e3767f136b6 button.colab-df-convert');\n",
              "        buttonEl.style.display =\n",
              "          google.colab.kernel.accessAllowed ? 'block' : 'none';\n",
              "\n",
              "        async function convertToInteractive(key) {\n",
              "          const element = document.querySelector('#df-ace1ab59-4250-418b-ad95-2e3767f136b6');\n",
              "          const dataTable =\n",
              "            await google.colab.kernel.invokeFunction('convertToInteractive',\n",
              "                                                     [key], {});\n",
              "          if (!dataTable) return;\n",
              "\n",
              "          const docLinkHtml = 'Like what you see? Visit the ' +\n",
              "            '<a target=\"_blank\" href=https://colab.research.google.com/notebooks/data_table.ipynb>data table notebook</a>'\n",
              "            + ' to learn more about interactive tables.';\n",
              "          element.innerHTML = '';\n",
              "          dataTable['output_type'] = 'display_data';\n",
              "          await google.colab.output.renderOutput(dataTable, element);\n",
              "          const docLink = document.createElement('div');\n",
              "          docLink.innerHTML = docLinkHtml;\n",
              "          element.appendChild(docLink);\n",
              "        }\n",
              "      </script>\n",
              "    </div>\n",
              "  </div>\n",
              "  "
            ]
          },
          "metadata": {},
          "execution_count": 42
        }
      ]
    },
    {
      "cell_type": "code",
      "source": [
        "articles['price']=np.random.randint(4000, 8000, articles.shape[0])"
      ],
      "metadata": {
        "id": "-kPorRXMIp5y"
      },
      "execution_count": null,
      "outputs": []
    },
    {
      "cell_type": "code",
      "source": [
        "'shirt' in articles.product_type_name.str.lower().unique()"
      ],
      "metadata": {
        "colab": {
          "base_uri": "https://localhost:8080/"
        },
        "id": "b6Zbkom0Hv5M",
        "outputId": "eb41956d-0e1a-44ff-9473-113f78e13a1e"
      },
      "execution_count": null,
      "outputs": [
        {
          "output_type": "execute_result",
          "data": {
            "text/plain": [
              "True"
            ]
          },
          "metadata": {},
          "execution_count": 62
        }
      ]
    },
    {
      "cell_type": "code",
      "source": [
        "doc=nlp1('shirts for men below 5000')\n",
        "for entity in doc.ents:\n",
        "    print(entity.text, entity.label_)"
      ],
      "metadata": {
        "colab": {
          "base_uri": "https://localhost:8080/"
        },
        "id": "dukjzvC3JmGU",
        "outputId": "7cb17fde-2921-4bf0-a16c-c13e6ad0fdb1"
      },
      "execution_count": null,
      "outputs": [
        {
          "output_type": "stream",
          "name": "stdout",
          "text": [
            "shirt product\n",
            "men category\n",
            "5000 price\n"
          ]
        }
      ]
    }
  ]
}