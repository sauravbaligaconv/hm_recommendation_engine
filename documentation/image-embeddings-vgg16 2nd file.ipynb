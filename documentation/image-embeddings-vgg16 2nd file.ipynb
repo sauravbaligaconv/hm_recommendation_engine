{
 "cells": [
  {
   "cell_type": "code",
   "execution_count": 1,
   "metadata": {
    "execution": {
     "iopub.execute_input": "2022-05-16T16:34:14.245277Z",
     "iopub.status.busy": "2022-05-16T16:34:14.244564Z",
     "iopub.status.idle": "2022-05-16T16:34:21.153074Z",
     "shell.execute_reply": "2022-05-16T16:34:21.152315Z",
     "shell.execute_reply.started": "2022-05-16T16:34:14.245182Z"
    }
   },
   "outputs": [],
   "source": [
    "import pandas as pd\n",
    "import numpy as np\n",
    "import annoy\n",
    "from tqdm.notebook import tqdm\n",
    "from sklearn.preprocessing import LabelEncoder\n",
    "import matplotlib.pyplot as plt\n",
    "import matplotlib.image as mpimg\n",
    "import tensorflow as tf\n",
    "import tensorflow.keras\n",
    "from tensorflow.keras.applications import vgg16\n",
    "from tensorflow.keras.preprocessing.image import load_img,img_to_array\n",
    "from tensorflow.keras.models import Model\n",
    "from tensorflow.keras.applications.imagenet_utils import preprocess_input\n",
    "import keras\n",
    "from keras.layers import Dense, Dropout, Flatten\n",
    "from keras import Model\n",
    "from tensorflow.keras.applications.resnet50 import ResNet50\n",
    "from keras.preprocessing import image\n",
    "from tensorflow.keras.applications.resnet50 import preprocess_input, decode_predictions\n",
    "from keras.layers import GlobalMaxPooling2D\n",
    "from PIL import Image\n",
    "import os\n",
    "from sklearn.metrics.pairwise import cosine_similarity\n",
    "import cv2\n",
    "from sklearn.utils import shuffle\n",
    "from sklearn.preprocessing import LabelBinarizer\n",
    "from keras.applications.xception import Xception,preprocess_input\n",
    "from keras.preprocessing import image\n",
    "from keras.layers import Input\n",
    "from keras.backend import reshape\n",
    "from sklearn.neighbors import NearestNeighbors\n",
    "from tensorflow.keras.models import Sequential,load_model,Model\n",
    "from tensorflow.keras.layers import Conv2D,MaxPooling2D,Dense,Dropout,Flatten,Reshape,UpSampling2D,Input,Lambda,Conv2DTranspose\n"
   ]
  },
  {
   "cell_type": "code",
   "execution_count": 2,
   "metadata": {
    "execution": {
     "iopub.execute_input": "2022-05-16T16:34:24.050677Z",
     "iopub.status.busy": "2022-05-16T16:34:24.049962Z",
     "iopub.status.idle": "2022-05-16T16:34:24.193441Z",
     "shell.execute_reply": "2022-05-16T16:34:24.19275Z",
     "shell.execute_reply.started": "2022-05-16T16:34:24.050622Z"
    }
   },
   "outputs": [
    {
     "name": "stdout",
     "output_type": "stream",
     "text": [
      "(105100, 1)\n"
     ]
    },
    {
     "data": {
      "text/html": [
       "<div>\n",
       "<style scoped>\n",
       "    .dataframe tbody tr th:only-of-type {\n",
       "        vertical-align: middle;\n",
       "    }\n",
       "\n",
       "    .dataframe tbody tr th {\n",
       "        vertical-align: top;\n",
       "    }\n",
       "\n",
       "    .dataframe thead th {\n",
       "        text-align: right;\n",
       "    }\n",
       "</style>\n",
       "<table border=\"1\" class=\"dataframe\">\n",
       "  <thead>\n",
       "    <tr style=\"text-align: right;\">\n",
       "      <th></th>\n",
       "      <th>img_id</th>\n",
       "    </tr>\n",
       "  </thead>\n",
       "  <tbody>\n",
       "    <tr>\n",
       "      <th>0</th>\n",
       "      <td>0108775015.jpg</td>\n",
       "    </tr>\n",
       "    <tr>\n",
       "      <th>1</th>\n",
       "      <td>0108775044.jpg</td>\n",
       "    </tr>\n",
       "    <tr>\n",
       "      <th>2</th>\n",
       "      <td>0108775051.jpg</td>\n",
       "    </tr>\n",
       "    <tr>\n",
       "      <th>3</th>\n",
       "      <td>0110065001.jpg</td>\n",
       "    </tr>\n",
       "    <tr>\n",
       "      <th>4</th>\n",
       "      <td>0110065002.jpg</td>\n",
       "    </tr>\n",
       "  </tbody>\n",
       "</table>\n",
       "</div>"
      ],
      "text/plain": [
       "           img_id\n",
       "0  0108775015.jpg\n",
       "1  0108775044.jpg\n",
       "2  0108775051.jpg\n",
       "3  0110065001.jpg\n",
       "4  0110065002.jpg"
      ]
     },
     "execution_count": 2,
     "metadata": {},
     "output_type": "execute_result"
    }
   ],
   "source": [
    "images=pd.read_csv('E:/H and M/HM Personal_Laptop/img_pres.csv')\n",
    "images=images.drop('Unnamed: 0',axis=1)\n",
    "images.rename(columns={'0':'img_id'},inplace=True)\n",
    "print(images.shape)\n",
    "images.head()"
   ]
  },
  {
   "cell_type": "raw",
   "metadata": {},
   "source": [
    "Applying paths to the image id. Change the path based on the solution for your own laptops"
   ]
  },
  {
   "cell_type": "code",
   "execution_count": 3,
   "metadata": {
    "execution": {
     "iopub.execute_input": "2022-05-16T16:34:27.481436Z",
     "iopub.status.busy": "2022-05-16T16:34:27.481112Z",
     "iopub.status.idle": "2022-05-16T16:34:27.576755Z",
     "shell.execute_reply": "2022-05-16T16:34:27.576017Z",
     "shell.execute_reply.started": "2022-05-16T16:34:27.481399Z"
    }
   },
   "outputs": [],
   "source": [
    "images['path']=images['img_id'].apply(lambda x: f\"E:/H and M/HM Personal_Laptop/images/{x[0:3]}/{x}\")"
   ]
  },
  {
   "cell_type": "code",
   "execution_count": 4,
   "metadata": {
    "execution": {
     "iopub.execute_input": "2022-05-16T16:34:28.556759Z",
     "iopub.status.busy": "2022-05-16T16:34:28.556467Z",
     "iopub.status.idle": "2022-05-16T16:34:28.562105Z",
     "shell.execute_reply": "2022-05-16T16:34:28.561269Z",
     "shell.execute_reply.started": "2022-05-16T16:34:28.556726Z"
    }
   },
   "outputs": [
    {
     "data": {
      "text/plain": [
       "'E:/H and M/HM Personal_Laptop/images/010/0108775015.jpg'"
      ]
     },
     "execution_count": 4,
     "metadata": {},
     "output_type": "execute_result"
    }
   ],
   "source": [
    "images.iloc[0,1]"
   ]
  },
  {
   "cell_type": "code",
   "execution_count": 16,
   "metadata": {},
   "outputs": [],
   "source": [
    "images.to_csv('image_info.csv')"
   ]
  },
  {
   "cell_type": "markdown",
   "metadata": {},
   "source": [
    "# Image similarity model"
   ]
  },
  {
   "cell_type": "raw",
   "metadata": {},
   "source": [
    "setting number of close images that needs to be found and what should be the shape of the images"
   ]
  },
  {
   "cell_type": "code",
   "execution_count": 5,
   "metadata": {
    "execution": {
     "iopub.execute_input": "2022-05-16T16:34:32.245632Z",
     "iopub.status.busy": "2022-05-16T16:34:32.245154Z",
     "iopub.status.idle": "2022-05-16T16:34:32.250125Z",
     "shell.execute_reply": "2022-05-16T16:34:32.249355Z",
     "shell.execute_reply.started": "2022-05-16T16:34:32.245595Z"
    }
   },
   "outputs": [],
   "source": [
    "imgs_model_width, imgs_model_height = 224, 224\n",
    "nb_closest_images = 5 "
   ]
  },
  {
   "cell_type": "raw",
   "metadata": {},
   "source": [
    "VGG16"
   ]
  },
  {
   "cell_type": "code",
   "execution_count": 6,
   "metadata": {
    "execution": {
     "iopub.execute_input": "2022-05-16T16:34:33.560187Z",
     "iopub.status.busy": "2022-05-16T16:34:33.559608Z",
     "iopub.status.idle": "2022-05-16T16:34:40.069463Z",
     "shell.execute_reply": "2022-05-16T16:34:40.068713Z",
     "shell.execute_reply.started": "2022-05-16T16:34:33.560148Z"
    }
   },
   "outputs": [
    {
     "name": "stdout",
     "output_type": "stream",
     "text": [
      "Model: \"model_1\"\n",
      "_________________________________________________________________\n",
      " Layer (type)                Output Shape              Param #   \n",
      "=================================================================\n",
      " input_1 (InputLayer)        [(None, 224, 224, 3)]     0         \n",
      "                                                                 \n",
      " block1_conv1 (Conv2D)       (None, 224, 224, 64)      1792      \n",
      "                                                                 \n",
      " block1_conv2 (Conv2D)       (None, 224, 224, 64)      36928     \n",
      "                                                                 \n",
      " block1_pool (MaxPooling2D)  (None, 112, 112, 64)      0         \n",
      "                                                                 \n",
      " block2_conv1 (Conv2D)       (None, 112, 112, 128)     73856     \n",
      "                                                                 \n",
      " block2_conv2 (Conv2D)       (None, 112, 112, 128)     147584    \n",
      "                                                                 \n",
      " block2_pool (MaxPooling2D)  (None, 56, 56, 128)       0         \n",
      "                                                                 \n",
      " block3_conv1 (Conv2D)       (None, 56, 56, 256)       295168    \n",
      "                                                                 \n",
      " block3_conv2 (Conv2D)       (None, 56, 56, 256)       590080    \n",
      "                                                                 \n",
      " block3_conv3 (Conv2D)       (None, 56, 56, 256)       590080    \n",
      "                                                                 \n",
      " block3_pool (MaxPooling2D)  (None, 28, 28, 256)       0         \n",
      "                                                                 \n",
      " block4_conv1 (Conv2D)       (None, 28, 28, 512)       1180160   \n",
      "                                                                 \n",
      " block4_conv2 (Conv2D)       (None, 28, 28, 512)       2359808   \n",
      "                                                                 \n",
      " block4_conv3 (Conv2D)       (None, 28, 28, 512)       2359808   \n",
      "                                                                 \n",
      " block4_pool (MaxPooling2D)  (None, 14, 14, 512)       0         \n",
      "                                                                 \n",
      " block5_conv1 (Conv2D)       (None, 14, 14, 512)       2359808   \n",
      "                                                                 \n",
      " block5_conv2 (Conv2D)       (None, 14, 14, 512)       2359808   \n",
      "                                                                 \n",
      " block5_conv3 (Conv2D)       (None, 14, 14, 512)       2359808   \n",
      "                                                                 \n",
      " block5_pool (MaxPooling2D)  (None, 7, 7, 512)         0         \n",
      "                                                                 \n",
      " flatten (Flatten)           (None, 25088)             0         \n",
      "                                                                 \n",
      " fc1 (Dense)                 (None, 4096)              102764544 \n",
      "                                                                 \n",
      " fc2 (Dense)                 (None, 4096)              16781312  \n",
      "                                                                 \n",
      " dense (Dense)               (None, 4096)              16781312  \n",
      "                                                                 \n",
      " dense_1 (Dense)             (None, 1072)              4391984   \n",
      "                                                                 \n",
      " dense_2 (Dense)             (None, 600)               643800    \n",
      "                                                                 \n",
      "=================================================================\n",
      "Total params: 156,077,640\n",
      "Trainable params: 156,077,640\n",
      "Non-trainable params: 0\n",
      "_________________________________________________________________\n"
     ]
    }
   ],
   "source": [
    "vgg_model = vgg16.VGG16(weights='imagenet')\n",
    "\n",
    "# remove the last layers in order to get features instead of predictions\n",
    "feat_extractor = Model(inputs=vgg_model.input, outputs=vgg_model.get_layer(\"fc2\").output)\n",
    "top_model = feat_extractor.output\n",
    "top_model = Dense(4096, activation='relu')(top_model)\n",
    "top_model = Dense(1072, activation='relu')(top_model)\n",
    "output_layer=Dense(600,activation='relu')(top_model)\n",
    "final_model=Model(inputs=vgg_model.input,outputs=output_layer)\n",
    "# print the layers of the CNN\n",
    "final_model.summary()"
   ]
  },
  {
   "cell_type": "raw",
   "metadata": {},
   "source": [
    "Creating a Array list of images"
   ]
  },
  {
   "cell_type": "code",
   "execution_count": 8,
   "metadata": {
    "execution": {
     "iopub.execute_input": "2022-05-16T16:42:37.577691Z",
     "iopub.status.busy": "2022-05-16T16:42:37.577406Z",
     "iopub.status.idle": "2022-05-16T16:42:37.582299Z",
     "shell.execute_reply": "2022-05-16T16:42:37.581388Z",
     "shell.execute_reply.started": "2022-05-16T16:42:37.577648Z"
    }
   },
   "outputs": [],
   "source": [
    "importedImages = []"
   ]
  },
  {
   "cell_type": "code",
   "execution_count": 9,
   "metadata": {
    "execution": {
     "iopub.execute_input": "2022-05-16T16:42:40.762117Z",
     "iopub.status.busy": "2022-05-16T16:42:40.761566Z",
     "iopub.status.idle": "2022-05-16T16:45:50.031281Z",
     "shell.execute_reply": "2022-05-16T16:45:50.030553Z",
     "shell.execute_reply.started": "2022-05-16T16:42:40.762079Z"
    }
   },
   "outputs": [
    {
     "data": {
      "application/vnd.jupyter.widget-view+json": {
       "model_id": "d784345a62784b33b75daf53bda26ed8",
       "version_major": 2,
       "version_minor": 0
      },
      "text/plain": [
       "  0%|          | 0/5000 [00:00<?, ?it/s]"
      ]
     },
     "metadata": {},
     "output_type": "display_data"
    }
   ],
   "source": [
    "for f in tqdm(images['path'][0:5000]):\n",
    "    filename =f\n",
    "    original = load_img(filename, target_size=(224, 224))\n",
    "    numpy_image = img_to_array(original)\n",
    "    image_batch = np.expand_dims(numpy_image, axis=0)\n",
    "    importedImages.append(image_batch)\n",
    "    \n",
    "#processed_imgs = preprocess_input(images.copy())"
   ]
  },
  {
   "cell_type": "code",
   "execution_count": 10,
   "metadata": {
    "execution": {
     "iopub.execute_input": "2022-05-16T16:47:20.769141Z",
     "iopub.status.busy": "2022-05-16T16:47:20.768651Z",
     "iopub.status.idle": "2022-05-16T16:47:21.655136Z",
     "shell.execute_reply": "2022-05-16T16:47:21.654462Z",
     "shell.execute_reply.started": "2022-05-16T16:47:20.769103Z"
    }
   },
   "outputs": [
    {
     "data": {
      "text/plain": [
       "(5000, 224, 224, 3)"
      ]
     },
     "execution_count": 10,
     "metadata": {},
     "output_type": "execute_result"
    }
   ],
   "source": [
    "imagess = np.vstack(importedImages)\n",
    "imagess.shape"
   ]
  },
  {
   "cell_type": "code",
   "execution_count": 11,
   "metadata": {
    "execution": {
     "iopub.execute_input": "2022-05-16T16:47:29.267648Z",
     "iopub.status.busy": "2022-05-16T16:47:29.26739Z",
     "iopub.status.idle": "2022-05-16T16:47:29.782129Z",
     "shell.execute_reply": "2022-05-16T16:47:29.781366Z",
     "shell.execute_reply.started": "2022-05-16T16:47:29.267618Z"
    }
   },
   "outputs": [],
   "source": [
    "processed_imgs=preprocess_input(imagess)"
   ]
  },
  {
   "cell_type": "raw",
   "metadata": {},
   "source": [
    "Extracting Features from each of the 5000 images"
   ]
  },
  {
   "cell_type": "code",
   "execution_count": 12,
   "metadata": {
    "execution": {
     "iopub.execute_input": "2022-05-16T16:47:33.10622Z",
     "iopub.status.busy": "2022-05-16T16:47:33.105959Z",
     "iopub.status.idle": "2022-05-16T16:47:58.342523Z",
     "shell.execute_reply": "2022-05-16T16:47:58.341886Z",
     "shell.execute_reply.started": "2022-05-16T16:47:33.106191Z"
    }
   },
   "outputs": [
    {
     "name": "stdout",
     "output_type": "stream",
     "text": [
      "157/157 [==============================] - 836s 5s/step\n",
      "features successfully extracted!\n"
     ]
    },
    {
     "data": {
      "text/plain": [
       "(5000, 4096)"
      ]
     },
     "execution_count": 12,
     "metadata": {},
     "output_type": "execute_result"
    }
   ],
   "source": [
    "imgs_features = feat_extractor.predict(processed_imgs)\n",
    "\n",
    "print(\"features successfully extracted!\")\n",
    "imgs_features.shape"
   ]
  },
  {
   "cell_type": "code",
   "execution_count": null,
   "metadata": {
    "execution": {
     "iopub.execute_input": "2022-05-16T16:48:03.636222Z",
     "iopub.status.busy": "2022-05-16T16:48:03.635968Z",
     "iopub.status.idle": "2022-05-16T16:48:03.643817Z",
     "shell.execute_reply": "2022-05-16T16:48:03.642985Z",
     "shell.execute_reply.started": "2022-05-16T16:48:03.636195Z"
    }
   },
   "outputs": [],
   "source": [
    "imgs_features"
   ]
  },
  {
   "cell_type": "raw",
   "metadata": {},
   "source": [
    "Based on the features extracted using VGG16 we use cosine similarity in order to find the 5 most nearest images"
   ]
  },
  {
   "cell_type": "code",
   "execution_count": 13,
   "metadata": {
    "execution": {
     "iopub.execute_input": "2022-05-16T16:48:09.351534Z",
     "iopub.status.busy": "2022-05-16T16:48:09.351019Z",
     "iopub.status.idle": "2022-05-16T16:48:10.403792Z",
     "shell.execute_reply": "2022-05-16T16:48:10.403107Z",
     "shell.execute_reply.started": "2022-05-16T16:48:09.351494Z"
    }
   },
   "outputs": [
    {
     "data": {
      "text/html": [
       "<div>\n",
       "<style scoped>\n",
       "    .dataframe tbody tr th:only-of-type {\n",
       "        vertical-align: middle;\n",
       "    }\n",
       "\n",
       "    .dataframe tbody tr th {\n",
       "        vertical-align: top;\n",
       "    }\n",
       "\n",
       "    .dataframe thead th {\n",
       "        text-align: right;\n",
       "    }\n",
       "</style>\n",
       "<table border=\"1\" class=\"dataframe\">\n",
       "  <thead>\n",
       "    <tr style=\"text-align: right;\">\n",
       "      <th>path</th>\n",
       "      <th>E:/H and M/HM Personal_Laptop/images/010/0108775015.jpg</th>\n",
       "      <th>E:/H and M/HM Personal_Laptop/images/010/0108775044.jpg</th>\n",
       "      <th>E:/H and M/HM Personal_Laptop/images/010/0108775051.jpg</th>\n",
       "      <th>E:/H and M/HM Personal_Laptop/images/011/0110065001.jpg</th>\n",
       "      <th>E:/H and M/HM Personal_Laptop/images/011/0110065002.jpg</th>\n",
       "      <th>E:/H and M/HM Personal_Laptop/images/011/0110065011.jpg</th>\n",
       "      <th>E:/H and M/HM Personal_Laptop/images/011/0111565001.jpg</th>\n",
       "      <th>E:/H and M/HM Personal_Laptop/images/011/0111565003.jpg</th>\n",
       "      <th>E:/H and M/HM Personal_Laptop/images/011/0111586001.jpg</th>\n",
       "      <th>E:/H and M/HM Personal_Laptop/images/011/0111593001.jpg</th>\n",
       "      <th>...</th>\n",
       "      <th>E:/H and M/HM Personal_Laptop/images/048/0489217007.jpg</th>\n",
       "      <th>E:/H and M/HM Personal_Laptop/images/048/0489435001.jpg</th>\n",
       "      <th>E:/H and M/HM Personal_Laptop/images/048/0489435002.jpg</th>\n",
       "      <th>E:/H and M/HM Personal_Laptop/images/048/0489435009.jpg</th>\n",
       "      <th>E:/H and M/HM Personal_Laptop/images/048/0489435010.jpg</th>\n",
       "      <th>E:/H and M/HM Personal_Laptop/images/048/0489435011.jpg</th>\n",
       "      <th>E:/H and M/HM Personal_Laptop/images/048/0489435012.jpg</th>\n",
       "      <th>E:/H and M/HM Personal_Laptop/images/048/0489435014.jpg</th>\n",
       "      <th>E:/H and M/HM Personal_Laptop/images/048/0489435015.jpg</th>\n",
       "      <th>E:/H and M/HM Personal_Laptop/images/048/0489435016.jpg</th>\n",
       "    </tr>\n",
       "    <tr>\n",
       "      <th>path</th>\n",
       "      <th></th>\n",
       "      <th></th>\n",
       "      <th></th>\n",
       "      <th></th>\n",
       "      <th></th>\n",
       "      <th></th>\n",
       "      <th></th>\n",
       "      <th></th>\n",
       "      <th></th>\n",
       "      <th></th>\n",
       "      <th></th>\n",
       "      <th></th>\n",
       "      <th></th>\n",
       "      <th></th>\n",
       "      <th></th>\n",
       "      <th></th>\n",
       "      <th></th>\n",
       "      <th></th>\n",
       "      <th></th>\n",
       "      <th></th>\n",
       "      <th></th>\n",
       "    </tr>\n",
       "  </thead>\n",
       "  <tbody>\n",
       "    <tr>\n",
       "      <th>E:/H and M/HM Personal_Laptop/images/010/0108775015.jpg</th>\n",
       "      <td>1.000000</td>\n",
       "      <td>0.961681</td>\n",
       "      <td>0.974386</td>\n",
       "      <td>0.977737</td>\n",
       "      <td>0.961188</td>\n",
       "      <td>0.972273</td>\n",
       "      <td>0.941894</td>\n",
       "      <td>0.957899</td>\n",
       "      <td>0.956268</td>\n",
       "      <td>0.958372</td>\n",
       "      <td>...</td>\n",
       "      <td>0.911624</td>\n",
       "      <td>0.951709</td>\n",
       "      <td>0.951384</td>\n",
       "      <td>0.954769</td>\n",
       "      <td>0.954861</td>\n",
       "      <td>0.950637</td>\n",
       "      <td>0.955817</td>\n",
       "      <td>0.947313</td>\n",
       "      <td>0.954170</td>\n",
       "      <td>0.945386</td>\n",
       "    </tr>\n",
       "    <tr>\n",
       "      <th>E:/H and M/HM Personal_Laptop/images/010/0108775044.jpg</th>\n",
       "      <td>0.961681</td>\n",
       "      <td>1.000000</td>\n",
       "      <td>0.978197</td>\n",
       "      <td>0.958795</td>\n",
       "      <td>0.993788</td>\n",
       "      <td>0.981855</td>\n",
       "      <td>0.962285</td>\n",
       "      <td>0.958465</td>\n",
       "      <td>0.963825</td>\n",
       "      <td>0.964833</td>\n",
       "      <td>...</td>\n",
       "      <td>0.918834</td>\n",
       "      <td>0.980947</td>\n",
       "      <td>0.973577</td>\n",
       "      <td>0.976915</td>\n",
       "      <td>0.974529</td>\n",
       "      <td>0.977722</td>\n",
       "      <td>0.975748</td>\n",
       "      <td>0.953639</td>\n",
       "      <td>0.976721</td>\n",
       "      <td>0.961853</td>\n",
       "    </tr>\n",
       "    <tr>\n",
       "      <th>E:/H and M/HM Personal_Laptop/images/010/0108775051.jpg</th>\n",
       "      <td>0.974386</td>\n",
       "      <td>0.978197</td>\n",
       "      <td>1.000000</td>\n",
       "      <td>0.965839</td>\n",
       "      <td>0.975869</td>\n",
       "      <td>0.977835</td>\n",
       "      <td>0.948924</td>\n",
       "      <td>0.966358</td>\n",
       "      <td>0.962569</td>\n",
       "      <td>0.964599</td>\n",
       "      <td>...</td>\n",
       "      <td>0.924103</td>\n",
       "      <td>0.970994</td>\n",
       "      <td>0.963249</td>\n",
       "      <td>0.966562</td>\n",
       "      <td>0.967037</td>\n",
       "      <td>0.969613</td>\n",
       "      <td>0.966992</td>\n",
       "      <td>0.957639</td>\n",
       "      <td>0.967525</td>\n",
       "      <td>0.961195</td>\n",
       "    </tr>\n",
       "    <tr>\n",
       "      <th>E:/H and M/HM Personal_Laptop/images/011/0110065001.jpg</th>\n",
       "      <td>0.977737</td>\n",
       "      <td>0.958795</td>\n",
       "      <td>0.965839</td>\n",
       "      <td>1.000000</td>\n",
       "      <td>0.966312</td>\n",
       "      <td>0.983325</td>\n",
       "      <td>0.943709</td>\n",
       "      <td>0.943825</td>\n",
       "      <td>0.946089</td>\n",
       "      <td>0.949469</td>\n",
       "      <td>...</td>\n",
       "      <td>0.913624</td>\n",
       "      <td>0.958085</td>\n",
       "      <td>0.963144</td>\n",
       "      <td>0.962034</td>\n",
       "      <td>0.963686</td>\n",
       "      <td>0.957867</td>\n",
       "      <td>0.963485</td>\n",
       "      <td>0.949646</td>\n",
       "      <td>0.962482</td>\n",
       "      <td>0.949798</td>\n",
       "    </tr>\n",
       "    <tr>\n",
       "      <th>E:/H and M/HM Personal_Laptop/images/011/0110065002.jpg</th>\n",
       "      <td>0.961188</td>\n",
       "      <td>0.993788</td>\n",
       "      <td>0.975869</td>\n",
       "      <td>0.966312</td>\n",
       "      <td>1.000000</td>\n",
       "      <td>0.988004</td>\n",
       "      <td>0.962125</td>\n",
       "      <td>0.951366</td>\n",
       "      <td>0.954847</td>\n",
       "      <td>0.958377</td>\n",
       "      <td>...</td>\n",
       "      <td>0.913356</td>\n",
       "      <td>0.986874</td>\n",
       "      <td>0.980306</td>\n",
       "      <td>0.981372</td>\n",
       "      <td>0.980496</td>\n",
       "      <td>0.983150</td>\n",
       "      <td>0.981786</td>\n",
       "      <td>0.955436</td>\n",
       "      <td>0.981588</td>\n",
       "      <td>0.965257</td>\n",
       "    </tr>\n",
       "  </tbody>\n",
       "</table>\n",
       "<p>5 rows × 5000 columns</p>\n",
       "</div>"
      ],
      "text/plain": [
       "path                                                E:/H and M/HM Personal_Laptop/images/010/0108775015.jpg  \\\n",
       "path                                                                                                          \n",
       "E:/H and M/HM Personal_Laptop/images/010/010877...                                           1.000000         \n",
       "E:/H and M/HM Personal_Laptop/images/010/010877...                                           0.961681         \n",
       "E:/H and M/HM Personal_Laptop/images/010/010877...                                           0.974386         \n",
       "E:/H and M/HM Personal_Laptop/images/011/011006...                                           0.977737         \n",
       "E:/H and M/HM Personal_Laptop/images/011/011006...                                           0.961188         \n",
       "\n",
       "path                                                E:/H and M/HM Personal_Laptop/images/010/0108775044.jpg  \\\n",
       "path                                                                                                          \n",
       "E:/H and M/HM Personal_Laptop/images/010/010877...                                           0.961681         \n",
       "E:/H and M/HM Personal_Laptop/images/010/010877...                                           1.000000         \n",
       "E:/H and M/HM Personal_Laptop/images/010/010877...                                           0.978197         \n",
       "E:/H and M/HM Personal_Laptop/images/011/011006...                                           0.958795         \n",
       "E:/H and M/HM Personal_Laptop/images/011/011006...                                           0.993788         \n",
       "\n",
       "path                                                E:/H and M/HM Personal_Laptop/images/010/0108775051.jpg  \\\n",
       "path                                                                                                          \n",
       "E:/H and M/HM Personal_Laptop/images/010/010877...                                           0.974386         \n",
       "E:/H and M/HM Personal_Laptop/images/010/010877...                                           0.978197         \n",
       "E:/H and M/HM Personal_Laptop/images/010/010877...                                           1.000000         \n",
       "E:/H and M/HM Personal_Laptop/images/011/011006...                                           0.965839         \n",
       "E:/H and M/HM Personal_Laptop/images/011/011006...                                           0.975869         \n",
       "\n",
       "path                                                E:/H and M/HM Personal_Laptop/images/011/0110065001.jpg  \\\n",
       "path                                                                                                          \n",
       "E:/H and M/HM Personal_Laptop/images/010/010877...                                           0.977737         \n",
       "E:/H and M/HM Personal_Laptop/images/010/010877...                                           0.958795         \n",
       "E:/H and M/HM Personal_Laptop/images/010/010877...                                           0.965839         \n",
       "E:/H and M/HM Personal_Laptop/images/011/011006...                                           1.000000         \n",
       "E:/H and M/HM Personal_Laptop/images/011/011006...                                           0.966312         \n",
       "\n",
       "path                                                E:/H and M/HM Personal_Laptop/images/011/0110065002.jpg  \\\n",
       "path                                                                                                          \n",
       "E:/H and M/HM Personal_Laptop/images/010/010877...                                           0.961188         \n",
       "E:/H and M/HM Personal_Laptop/images/010/010877...                                           0.993788         \n",
       "E:/H and M/HM Personal_Laptop/images/010/010877...                                           0.975869         \n",
       "E:/H and M/HM Personal_Laptop/images/011/011006...                                           0.966312         \n",
       "E:/H and M/HM Personal_Laptop/images/011/011006...                                           1.000000         \n",
       "\n",
       "path                                                E:/H and M/HM Personal_Laptop/images/011/0110065011.jpg  \\\n",
       "path                                                                                                          \n",
       "E:/H and M/HM Personal_Laptop/images/010/010877...                                           0.972273         \n",
       "E:/H and M/HM Personal_Laptop/images/010/010877...                                           0.981855         \n",
       "E:/H and M/HM Personal_Laptop/images/010/010877...                                           0.977835         \n",
       "E:/H and M/HM Personal_Laptop/images/011/011006...                                           0.983325         \n",
       "E:/H and M/HM Personal_Laptop/images/011/011006...                                           0.988004         \n",
       "\n",
       "path                                                E:/H and M/HM Personal_Laptop/images/011/0111565001.jpg  \\\n",
       "path                                                                                                          \n",
       "E:/H and M/HM Personal_Laptop/images/010/010877...                                           0.941894         \n",
       "E:/H and M/HM Personal_Laptop/images/010/010877...                                           0.962285         \n",
       "E:/H and M/HM Personal_Laptop/images/010/010877...                                           0.948924         \n",
       "E:/H and M/HM Personal_Laptop/images/011/011006...                                           0.943709         \n",
       "E:/H and M/HM Personal_Laptop/images/011/011006...                                           0.962125         \n",
       "\n",
       "path                                                E:/H and M/HM Personal_Laptop/images/011/0111565003.jpg  \\\n",
       "path                                                                                                          \n",
       "E:/H and M/HM Personal_Laptop/images/010/010877...                                           0.957899         \n",
       "E:/H and M/HM Personal_Laptop/images/010/010877...                                           0.958465         \n",
       "E:/H and M/HM Personal_Laptop/images/010/010877...                                           0.966358         \n",
       "E:/H and M/HM Personal_Laptop/images/011/011006...                                           0.943825         \n",
       "E:/H and M/HM Personal_Laptop/images/011/011006...                                           0.951366         \n",
       "\n",
       "path                                                E:/H and M/HM Personal_Laptop/images/011/0111586001.jpg  \\\n",
       "path                                                                                                          \n",
       "E:/H and M/HM Personal_Laptop/images/010/010877...                                           0.956268         \n",
       "E:/H and M/HM Personal_Laptop/images/010/010877...                                           0.963825         \n",
       "E:/H and M/HM Personal_Laptop/images/010/010877...                                           0.962569         \n",
       "E:/H and M/HM Personal_Laptop/images/011/011006...                                           0.946089         \n",
       "E:/H and M/HM Personal_Laptop/images/011/011006...                                           0.954847         \n",
       "\n",
       "path                                                E:/H and M/HM Personal_Laptop/images/011/0111593001.jpg  \\\n",
       "path                                                                                                          \n",
       "E:/H and M/HM Personal_Laptop/images/010/010877...                                           0.958372         \n",
       "E:/H and M/HM Personal_Laptop/images/010/010877...                                           0.964833         \n",
       "E:/H and M/HM Personal_Laptop/images/010/010877...                                           0.964599         \n",
       "E:/H and M/HM Personal_Laptop/images/011/011006...                                           0.949469         \n",
       "E:/H and M/HM Personal_Laptop/images/011/011006...                                           0.958377         \n",
       "\n",
       "path                                                ...  \\\n",
       "path                                                ...   \n",
       "E:/H and M/HM Personal_Laptop/images/010/010877...  ...   \n",
       "E:/H and M/HM Personal_Laptop/images/010/010877...  ...   \n",
       "E:/H and M/HM Personal_Laptop/images/010/010877...  ...   \n",
       "E:/H and M/HM Personal_Laptop/images/011/011006...  ...   \n",
       "E:/H and M/HM Personal_Laptop/images/011/011006...  ...   \n",
       "\n",
       "path                                                E:/H and M/HM Personal_Laptop/images/048/0489217007.jpg  \\\n",
       "path                                                                                                          \n",
       "E:/H and M/HM Personal_Laptop/images/010/010877...                                           0.911624         \n",
       "E:/H and M/HM Personal_Laptop/images/010/010877...                                           0.918834         \n",
       "E:/H and M/HM Personal_Laptop/images/010/010877...                                           0.924103         \n",
       "E:/H and M/HM Personal_Laptop/images/011/011006...                                           0.913624         \n",
       "E:/H and M/HM Personal_Laptop/images/011/011006...                                           0.913356         \n",
       "\n",
       "path                                                E:/H and M/HM Personal_Laptop/images/048/0489435001.jpg  \\\n",
       "path                                                                                                          \n",
       "E:/H and M/HM Personal_Laptop/images/010/010877...                                           0.951709         \n",
       "E:/H and M/HM Personal_Laptop/images/010/010877...                                           0.980947         \n",
       "E:/H and M/HM Personal_Laptop/images/010/010877...                                           0.970994         \n",
       "E:/H and M/HM Personal_Laptop/images/011/011006...                                           0.958085         \n",
       "E:/H and M/HM Personal_Laptop/images/011/011006...                                           0.986874         \n",
       "\n",
       "path                                                E:/H and M/HM Personal_Laptop/images/048/0489435002.jpg  \\\n",
       "path                                                                                                          \n",
       "E:/H and M/HM Personal_Laptop/images/010/010877...                                           0.951384         \n",
       "E:/H and M/HM Personal_Laptop/images/010/010877...                                           0.973577         \n",
       "E:/H and M/HM Personal_Laptop/images/010/010877...                                           0.963249         \n",
       "E:/H and M/HM Personal_Laptop/images/011/011006...                                           0.963144         \n",
       "E:/H and M/HM Personal_Laptop/images/011/011006...                                           0.980306         \n",
       "\n",
       "path                                                E:/H and M/HM Personal_Laptop/images/048/0489435009.jpg  \\\n",
       "path                                                                                                          \n",
       "E:/H and M/HM Personal_Laptop/images/010/010877...                                           0.954769         \n",
       "E:/H and M/HM Personal_Laptop/images/010/010877...                                           0.976915         \n",
       "E:/H and M/HM Personal_Laptop/images/010/010877...                                           0.966562         \n",
       "E:/H and M/HM Personal_Laptop/images/011/011006...                                           0.962034         \n",
       "E:/H and M/HM Personal_Laptop/images/011/011006...                                           0.981372         \n",
       "\n",
       "path                                                E:/H and M/HM Personal_Laptop/images/048/0489435010.jpg  \\\n",
       "path                                                                                                          \n",
       "E:/H and M/HM Personal_Laptop/images/010/010877...                                           0.954861         \n",
       "E:/H and M/HM Personal_Laptop/images/010/010877...                                           0.974529         \n",
       "E:/H and M/HM Personal_Laptop/images/010/010877...                                           0.967037         \n",
       "E:/H and M/HM Personal_Laptop/images/011/011006...                                           0.963686         \n",
       "E:/H and M/HM Personal_Laptop/images/011/011006...                                           0.980496         \n",
       "\n",
       "path                                                E:/H and M/HM Personal_Laptop/images/048/0489435011.jpg  \\\n",
       "path                                                                                                          \n",
       "E:/H and M/HM Personal_Laptop/images/010/010877...                                           0.950637         \n",
       "E:/H and M/HM Personal_Laptop/images/010/010877...                                           0.977722         \n",
       "E:/H and M/HM Personal_Laptop/images/010/010877...                                           0.969613         \n",
       "E:/H and M/HM Personal_Laptop/images/011/011006...                                           0.957867         \n",
       "E:/H and M/HM Personal_Laptop/images/011/011006...                                           0.983150         \n",
       "\n",
       "path                                                E:/H and M/HM Personal_Laptop/images/048/0489435012.jpg  \\\n",
       "path                                                                                                          \n",
       "E:/H and M/HM Personal_Laptop/images/010/010877...                                           0.955817         \n",
       "E:/H and M/HM Personal_Laptop/images/010/010877...                                           0.975748         \n",
       "E:/H and M/HM Personal_Laptop/images/010/010877...                                           0.966992         \n",
       "E:/H and M/HM Personal_Laptop/images/011/011006...                                           0.963485         \n",
       "E:/H and M/HM Personal_Laptop/images/011/011006...                                           0.981786         \n",
       "\n",
       "path                                                E:/H and M/HM Personal_Laptop/images/048/0489435014.jpg  \\\n",
       "path                                                                                                          \n",
       "E:/H and M/HM Personal_Laptop/images/010/010877...                                           0.947313         \n",
       "E:/H and M/HM Personal_Laptop/images/010/010877...                                           0.953639         \n",
       "E:/H and M/HM Personal_Laptop/images/010/010877...                                           0.957639         \n",
       "E:/H and M/HM Personal_Laptop/images/011/011006...                                           0.949646         \n",
       "E:/H and M/HM Personal_Laptop/images/011/011006...                                           0.955436         \n",
       "\n",
       "path                                                E:/H and M/HM Personal_Laptop/images/048/0489435015.jpg  \\\n",
       "path                                                                                                          \n",
       "E:/H and M/HM Personal_Laptop/images/010/010877...                                           0.954170         \n",
       "E:/H and M/HM Personal_Laptop/images/010/010877...                                           0.976721         \n",
       "E:/H and M/HM Personal_Laptop/images/010/010877...                                           0.967525         \n",
       "E:/H and M/HM Personal_Laptop/images/011/011006...                                           0.962482         \n",
       "E:/H and M/HM Personal_Laptop/images/011/011006...                                           0.981588         \n",
       "\n",
       "path                                                E:/H and M/HM Personal_Laptop/images/048/0489435016.jpg  \n",
       "path                                                                                                         \n",
       "E:/H and M/HM Personal_Laptop/images/010/010877...                                           0.945386        \n",
       "E:/H and M/HM Personal_Laptop/images/010/010877...                                           0.961853        \n",
       "E:/H and M/HM Personal_Laptop/images/010/010877...                                           0.961195        \n",
       "E:/H and M/HM Personal_Laptop/images/011/011006...                                           0.949798        \n",
       "E:/H and M/HM Personal_Laptop/images/011/011006...                                           0.965257        \n",
       "\n",
       "[5 rows x 5000 columns]"
      ]
     },
     "execution_count": 13,
     "metadata": {},
     "output_type": "execute_result"
    }
   ],
   "source": [
    "cosSimilarities = cosine_similarity(imgs_features)\n",
    "cos_similarities_df = pd.DataFrame(cosSimilarities, columns=images['path'][0:5000], index=images['path'][0:5000])\n",
    "cos_similarities_df.head()"
   ]
  },
  {
   "cell_type": "code",
   "execution_count": 14,
   "metadata": {
    "execution": {
     "iopub.execute_input": "2022-05-16T16:48:37.769376Z",
     "iopub.status.busy": "2022-05-16T16:48:37.768851Z",
     "iopub.status.idle": "2022-05-16T16:49:06.172117Z",
     "shell.execute_reply": "2022-05-16T16:49:06.171318Z",
     "shell.execute_reply.started": "2022-05-16T16:48:37.769339Z"
    }
   },
   "outputs": [],
   "source": [
    "cos_similarities_df.to_csv('similarities_image.csv')"
   ]
  }
 ],
 "metadata": {
  "kernelspec": {
   "display_name": "Python 3 (ipykernel)",
   "language": "python",
   "name": "python3"
  },
  "language_info": {
   "codemirror_mode": {
    "name": "ipython",
    "version": 3
   },
   "file_extension": ".py",
   "mimetype": "text/x-python",
   "name": "python",
   "nbconvert_exporter": "python",
   "pygments_lexer": "ipython3",
   "version": "3.9.12"
  }
 },
 "nbformat": 4,
 "nbformat_minor": 4
}
